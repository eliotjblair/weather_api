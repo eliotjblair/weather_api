{
 "cells": [
  {
   "cell_type": "code",
   "execution_count": null,
   "id": "9a5cfc70",
   "metadata": {},
   "outputs": [],
   "source": [
    "baseurl = \"http://api.weatherapi.com/v1\"\n",
    "key = \"\""
   ]
  },
  {
   "cell_type": "code",
   "execution_count": 20,
   "id": "50882b45",
   "metadata": {},
   "outputs": [],
   "source": [
    "#http://api.weatherapi.com/v1/current.json?key=<YOUR_API_KEY>&q=London"
   ]
  },
  {
   "cell_type": "code",
   "execution_count": 21,
   "id": "1174638e",
   "metadata": {},
   "outputs": [],
   "source": [
    "import requests\n",
    "import pandas as pd"
   ]
  },
  {
   "cell_type": "code",
   "execution_count": 22,
   "id": "6937b4c1",
   "metadata": {},
   "outputs": [],
   "source": [
    "city = \"Louisville\"\n",
    "baseurl = f\"http://api.weatherapi.com/v1/current.json?key={key}&q={city}\"\n",
    "response = requests.get(baseurl)"
   ]
  },
  {
   "cell_type": "code",
   "execution_count": 23,
   "id": "5d511762",
   "metadata": {},
   "outputs": [
    {
     "data": {
      "text/plain": [
       "200"
      ]
     },
     "execution_count": 23,
     "metadata": {},
     "output_type": "execute_result"
    }
   ],
   "source": [
    "response.status_code"
   ]
  },
  {
   "cell_type": "code",
   "execution_count": 24,
   "id": "fef363e7",
   "metadata": {},
   "outputs": [
    {
     "data": {
      "text/plain": [
       "{'location': {'name': 'Louisville',\n",
       "  'region': 'Kentucky',\n",
       "  'country': 'United States of America',\n",
       "  'lat': 38.2542,\n",
       "  'lon': -85.7594,\n",
       "  'tz_id': 'America/Kentucky/Louisville',\n",
       "  'localtime_epoch': 1757443779,\n",
       "  'localtime': '2025-09-09 14:49'},\n",
       " 'current': {'last_updated_epoch': 1757443500,\n",
       "  'last_updated': '2025-09-09 14:45',\n",
       "  'temp_c': 25.1,\n",
       "  'temp_f': 77.2,\n",
       "  'is_day': 1,\n",
       "  'condition': {'text': 'Sunny',\n",
       "   'icon': '//cdn.weatherapi.com/weather/64x64/day/113.png',\n",
       "   'code': 1000},\n",
       "  'wind_mph': 2.5,\n",
       "  'wind_kph': 4.0,\n",
       "  'wind_degree': 103,\n",
       "  'wind_dir': 'ESE',\n",
       "  'pressure_mb': 1022.0,\n",
       "  'pressure_in': 30.17,\n",
       "  'precip_mm': 0.0,\n",
       "  'precip_in': 0.0,\n",
       "  'humidity': 37,\n",
       "  'cloud': 0,\n",
       "  'feelslike_c': 25.1,\n",
       "  'feelslike_f': 77.1,\n",
       "  'windchill_c': 27.4,\n",
       "  'windchill_f': 81.3,\n",
       "  'heatindex_c': 26.9,\n",
       "  'heatindex_f': 80.5,\n",
       "  'dewpoint_c': 10.8,\n",
       "  'dewpoint_f': 51.4,\n",
       "  'vis_km': 16.0,\n",
       "  'vis_miles': 9.0,\n",
       "  'uv': 6.7,\n",
       "  'gust_mph': 2.8,\n",
       "  'gust_kph': 4.6,\n",
       "  'short_rad': 588.45,\n",
       "  'diff_rad': 83.04,\n",
       "  'dni': 1311.49,\n",
       "  'gti': 327.28}}"
      ]
     },
     "execution_count": 24,
     "metadata": {},
     "output_type": "execute_result"
    }
   ],
   "source": [
    "data = response.json()\n",
    "data"
   ]
  },
  {
   "cell_type": "code",
   "execution_count": 25,
   "id": "a730ad25",
   "metadata": {},
   "outputs": [],
   "source": [
    "current = data['current']\n",
    "location = data['location']\n",
    "temp_f = current['temp_f']\n",
    "wind_mph = current['wind_mph']\n",
    "humidity = current['humidity']"
   ]
  },
  {
   "cell_type": "code",
   "execution_count": 26,
   "id": "4649e419",
   "metadata": {},
   "outputs": [
    {
     "data": {
      "text/plain": [
       "(77.2, 37)"
      ]
     },
     "execution_count": 26,
     "metadata": {},
     "output_type": "execute_result"
    }
   ],
   "source": [
    "temp_f, humidity"
   ]
  },
  {
   "cell_type": "code",
   "execution_count": 27,
   "id": "fa78b59c",
   "metadata": {},
   "outputs": [],
   "source": [
    "def get_weather(city):\n",
    "    url = f\"http://api.weatherapi.com/v1/current.json?key={key}&q={city}\"\n",
    "    response = requests.get(url)\n",
    "    if response.status_code == 200:\n",
    "        data = response.json()\n",
    "        current = data['current']\n",
    "        location = data['location']\n",
    "        temp_f = current['temp_f']\n",
    "        wind_mph = current['wind_mph']\n",
    "        humidity = current['humidity']\n",
    "\n",
    "        print(f\"Weather for {location['name']}, {location['region']}\")\n",
    "        print(f\"Temperature: {current['temp_f']} °F / {current['temp_c']} °C\")\n",
    "        print(f\"Condition: {current['condition']['text']}\")\n",
    "        print(f\"Humidity: {current['humidity']}%\")\n",
    "        print(f\"Wind Speed: {current['wind_mph']} mph\")\n",
    "\n",
    "    else:\n",
    "        print(f\"Error fetching data for {city}: {response.status_code}\")"
   ]
  },
  {
   "cell_type": "code",
   "execution_count": 28,
   "id": "80637d76",
   "metadata": {},
   "outputs": [
    {
     "name": "stdout",
     "output_type": "stream",
     "text": [
      "Weather for Lihue, Hawaii\n",
      "Temperature: 79.3 °F / 26.3 °C\n",
      "Condition: Partly cloudy\n",
      "Humidity: 89%\n",
      "Wind Speed: 8.5 mph\n"
     ]
    }
   ],
   "source": [
    "get_weather(\"Lihue\")"
   ]
  },
  {
   "cell_type": "code",
   "execution_count": 29,
   "id": "ddf87fcb",
   "metadata": {},
   "outputs": [
    {
     "name": "stdout",
     "output_type": "stream",
     "text": [
      "Error fetching data for Lexingtion: 400\n"
     ]
    }
   ],
   "source": [
    "get_weather(\"Lexingtion\")"
   ]
  },
  {
   "cell_type": "code",
   "execution_count": 30,
   "id": "fe005532",
   "metadata": {},
   "outputs": [
    {
     "name": "stdout",
     "output_type": "stream",
     "text": [
      "Weather for Louisville, Kentucky\n",
      "Temperature: 77.2 °F / 25.1 °C\n",
      "Condition: Sunny\n",
      "Humidity: 37%\n",
      "Wind Speed: 2.5 mph\n"
     ]
    }
   ],
   "source": [
    "get_weather(\"louisville\")"
   ]
  },
  {
   "cell_type": "code",
   "execution_count": 31,
   "id": "53bf9de9",
   "metadata": {},
   "outputs": [
    {
     "name": "stdout",
     "output_type": "stream",
     "text": [
      "Weather for Kapaa, Hawaii\n",
      "Temperature: 79.3 °F / 26.3 °C\n",
      "Condition: Partly cloudy\n",
      "Humidity: 89%\n",
      "Wind Speed: 8.5 mph\n",
      "Weather for Louisville, Kentucky\n",
      "Temperature: 77.2 °F / 25.1 °C\n",
      "Condition: Sunny\n",
      "Humidity: 37%\n",
      "Wind Speed: 2.5 mph\n",
      "Weather for Morehead, Western\n",
      "Temperature: 73.7 °F / 23.2 °C\n",
      "Condition: Patchy rain nearby\n",
      "Humidity: 89%\n",
      "Wind Speed: 3.8 mph\n",
      "Weather for Lihue, Hawaii\n",
      "Temperature: 79.3 °F / 26.3 °C\n",
      "Condition: Partly cloudy\n",
      "Humidity: 89%\n",
      "Wind Speed: 8.5 mph\n",
      "Weather for New Nabumai, New Ireland\n",
      "Temperature: 77.6 °F / 25.3 °C\n",
      "Condition: Patchy rain nearby\n",
      "Humidity: 85%\n",
      "Wind Speed: 5.8 mph\n"
     ]
    }
   ],
   "source": [
    "cities = [\"Kapaa\", \"Louisville\", \"Morehead\", \"Lihue\", \"New Yourk\"]\n",
    "weather_data = []\n",
    "for city in cities:\n",
    "    weather_data.append(get_weather(city))"
   ]
  },
  {
   "cell_type": "code",
   "execution_count": 32,
   "id": "43abd3cf",
   "metadata": {},
   "outputs": [],
   "source": [
    "cities = [\"Kapaa\", \"Louisville\", \"Morehead\", \"Lihue\", \"New Yourk\"]\n",
    "weather_data = []\n",
    "\n",
    "for city in cities:\n",
    "    url = f\"http://api.weatherapi.com/v1/current.json?key={key}&q={city}\"\n",
    "    response = requests.get(url)\n",
    "\n",
    "    if response.status_code == 200:\n",
    "        data = response.json()\n",
    "        weather_data.append({\n",
    "            \"City\": data['location']['name'],\n",
    "            \"Temperature\": data['current']['temp_f'],\n",
    "            \"Condition\": data['current']['condition']['text'],\n",
    "            \"Humidity\": data['current']['humidity'],\n",
    "            \"Wind Speed\": data['current']['wind_mph']   })\n",
    "    else:\n",
    "        print(\"Error fetching data\")"
   ]
  },
  {
   "cell_type": "code",
   "execution_count": 33,
   "id": "65d5892e",
   "metadata": {},
   "outputs": [
    {
     "data": {
      "text/plain": [
       "[{'City': 'Kapaa',\n",
       "  'Temperature': 79.3,\n",
       "  'Condition': 'Partly cloudy',\n",
       "  'Humidity': 89,\n",
       "  'Wind Speed': 8.5},\n",
       " {'City': 'Louisville',\n",
       "  'Temperature': 77.2,\n",
       "  'Condition': 'Sunny',\n",
       "  'Humidity': 37,\n",
       "  'Wind Speed': 2.5},\n",
       " {'City': 'Morehead',\n",
       "  'Temperature': 73.7,\n",
       "  'Condition': 'Patchy rain nearby',\n",
       "  'Humidity': 89,\n",
       "  'Wind Speed': 3.8},\n",
       " {'City': 'Lihue',\n",
       "  'Temperature': 79.3,\n",
       "  'Condition': 'Partly cloudy',\n",
       "  'Humidity': 89,\n",
       "  'Wind Speed': 8.5},\n",
       " {'City': 'New Nabumai',\n",
       "  'Temperature': 77.6,\n",
       "  'Condition': 'Patchy rain nearby',\n",
       "  'Humidity': 85,\n",
       "  'Wind Speed': 5.8}]"
      ]
     },
     "execution_count": 33,
     "metadata": {},
     "output_type": "execute_result"
    }
   ],
   "source": [
    "weather_data"
   ]
  },
  {
   "cell_type": "code",
   "execution_count": 34,
   "id": "b30383d3",
   "metadata": {},
   "outputs": [],
   "source": [
    "weather_df = pd.DataFrame(weather_data)"
   ]
  },
  {
   "cell_type": "code",
   "execution_count": 35,
   "id": "d42ede80",
   "metadata": {},
   "outputs": [
    {
     "data": {
      "text/html": [
       "<div>\n",
       "<style scoped>\n",
       "    .dataframe tbody tr th:only-of-type {\n",
       "        vertical-align: middle;\n",
       "    }\n",
       "\n",
       "    .dataframe tbody tr th {\n",
       "        vertical-align: top;\n",
       "    }\n",
       "\n",
       "    .dataframe thead th {\n",
       "        text-align: right;\n",
       "    }\n",
       "</style>\n",
       "<table border=\"1\" class=\"dataframe\">\n",
       "  <thead>\n",
       "    <tr style=\"text-align: right;\">\n",
       "      <th></th>\n",
       "      <th>City</th>\n",
       "      <th>Temperature</th>\n",
       "      <th>Condition</th>\n",
       "      <th>Humidity</th>\n",
       "      <th>Wind Speed</th>\n",
       "    </tr>\n",
       "  </thead>\n",
       "  <tbody>\n",
       "    <tr>\n",
       "      <th>0</th>\n",
       "      <td>Kapaa</td>\n",
       "      <td>79.3</td>\n",
       "      <td>Partly cloudy</td>\n",
       "      <td>89</td>\n",
       "      <td>8.5</td>\n",
       "    </tr>\n",
       "    <tr>\n",
       "      <th>1</th>\n",
       "      <td>Louisville</td>\n",
       "      <td>77.2</td>\n",
       "      <td>Sunny</td>\n",
       "      <td>37</td>\n",
       "      <td>2.5</td>\n",
       "    </tr>\n",
       "    <tr>\n",
       "      <th>2</th>\n",
       "      <td>Morehead</td>\n",
       "      <td>73.7</td>\n",
       "      <td>Patchy rain nearby</td>\n",
       "      <td>89</td>\n",
       "      <td>3.8</td>\n",
       "    </tr>\n",
       "    <tr>\n",
       "      <th>3</th>\n",
       "      <td>Lihue</td>\n",
       "      <td>79.3</td>\n",
       "      <td>Partly cloudy</td>\n",
       "      <td>89</td>\n",
       "      <td>8.5</td>\n",
       "    </tr>\n",
       "    <tr>\n",
       "      <th>4</th>\n",
       "      <td>New Nabumai</td>\n",
       "      <td>77.6</td>\n",
       "      <td>Patchy rain nearby</td>\n",
       "      <td>85</td>\n",
       "      <td>5.8</td>\n",
       "    </tr>\n",
       "  </tbody>\n",
       "</table>\n",
       "</div>"
      ],
      "text/plain": [
       "          City  Temperature           Condition  Humidity  Wind Speed\n",
       "0        Kapaa         79.3       Partly cloudy        89         8.5\n",
       "1   Louisville         77.2               Sunny        37         2.5\n",
       "2     Morehead         73.7  Patchy rain nearby        89         3.8\n",
       "3        Lihue         79.3       Partly cloudy        89         8.5\n",
       "4  New Nabumai         77.6  Patchy rain nearby        85         5.8"
      ]
     },
     "execution_count": 35,
     "metadata": {},
     "output_type": "execute_result"
    }
   ],
   "source": [
    "weather_df.head()"
   ]
  },
  {
   "cell_type": "code",
   "execution_count": 36,
   "id": "83f98fc2",
   "metadata": {},
   "outputs": [],
   "source": [
    "weather_df.to_csv(\"sample_weather_data.csv\", index=False)"
   ]
  }
 ],
 "metadata": {
  "kernelspec": {
   "display_name": "Python 3",
   "language": "python",
   "name": "python3"
  },
  "language_info": {
   "codemirror_mode": {
    "name": "ipython",
    "version": 3
   },
   "file_extension": ".py",
   "mimetype": "text/x-python",
   "name": "python",
   "nbconvert_exporter": "python",
   "pygments_lexer": "ipython3",
   "version": "3.12.10"
  }
 },
 "nbformat": 4,
 "nbformat_minor": 5
}
