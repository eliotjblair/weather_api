{
 "cells": [
  {
   "cell_type": "code",
   "execution_count": 265,
   "id": "00b4abff",
   "metadata": {},
   "outputs": [],
   "source": [
    "import requests\n",
    "import pandas as pd\n",
    "from datetime import datetime"
   ]
  },
  {
   "cell_type": "code",
   "execution_count": 266,
   "id": "bd01948a",
   "metadata": {},
   "outputs": [],
   "source": [
    "api_key = \"0d1c5d373e2b4cb0b07152200250909\"\n",
    "baseurl = \"http://api.weatherapi.com/v1/\"\n",
    "# f\"http://api.weatherapi.com/v1/current.json?key={api_key}&q={city}\"\n",
    "city=\"Louisville\""
   ]
  },
  {
   "cell_type": "code",
   "execution_count": 267,
   "id": "ed7a5cb8",
   "metadata": {},
   "outputs": [
    {
     "data": {
      "text/plain": [
       "200"
      ]
     },
     "execution_count": 267,
     "metadata": {},
     "output_type": "execute_result"
    }
   ],
   "source": [
    "response = requests.get(f\"http://api.weatherapi.com/v1/current.json?key={api_key}&q={city}\")\n",
    "response.status_code"
   ]
  },
  {
   "cell_type": "code",
   "execution_count": 268,
   "id": "96dd4ca1",
   "metadata": {},
   "outputs": [
    {
     "data": {
      "text/plain": [
       "{'last_updated_epoch': 1757442600,\n",
       " 'last_updated': '2025-09-09 14:30',\n",
       " 'temp_c': 25.1,\n",
       " 'temp_f': 77.2,\n",
       " 'is_day': 1,\n",
       " 'condition': {'text': 'Sunny',\n",
       "  'icon': '//cdn.weatherapi.com/weather/64x64/day/113.png',\n",
       "  'code': 1000},\n",
       " 'wind_mph': 2.5,\n",
       " 'wind_kph': 4.0,\n",
       " 'wind_degree': 103,\n",
       " 'wind_dir': 'ESE',\n",
       " 'pressure_mb': 1022.0,\n",
       " 'pressure_in': 30.17,\n",
       " 'precip_mm': 0.0,\n",
       " 'precip_in': 0.0,\n",
       " 'humidity': 37,\n",
       " 'cloud': 0,\n",
       " 'feelslike_c': 25.1,\n",
       " 'feelslike_f': 77.1,\n",
       " 'windchill_c': 27.4,\n",
       " 'windchill_f': 81.3,\n",
       " 'heatindex_c': 26.9,\n",
       " 'heatindex_f': 80.5,\n",
       " 'dewpoint_c': 10.8,\n",
       " 'dewpoint_f': 51.4,\n",
       " 'vis_km': 16.0,\n",
       " 'vis_miles': 9.0,\n",
       " 'uv': 6.7,\n",
       " 'gust_mph': 2.8,\n",
       " 'gust_kph': 4.6,\n",
       " 'short_rad': 588.45,\n",
       " 'diff_rad': 83.04,\n",
       " 'dni': 1311.49,\n",
       " 'gti': 327.28}"
      ]
     },
     "execution_count": 268,
     "metadata": {},
     "output_type": "execute_result"
    }
   ],
   "source": [
    "data = response.json()\n",
    "data['current']"
   ]
  },
  {
   "cell_type": "code",
   "execution_count": 269,
   "id": "379da731",
   "metadata": {},
   "outputs": [
    {
     "data": {
      "text/plain": [
       "200"
      ]
     },
     "execution_count": 269,
     "metadata": {},
     "output_type": "execute_result"
    }
   ],
   "source": [
    "forecast_url = f\"{baseurl}forecast.json?key={api_key}&q={city}&days=3\"\n",
    "forecast_response = requests.get(forecast_url)\n",
    "forecast_response.status_code"
   ]
  },
  {
   "cell_type": "code",
   "execution_count": 270,
   "id": "68af9da3",
   "metadata": {},
   "outputs": [],
   "source": [
    "forecast_data = forecast_response.json()\n",
    "forecast = forecast_data['forecast']['forecastday']"
   ]
  },
  {
   "cell_type": "code",
   "execution_count": 271,
   "id": "a15565f6",
   "metadata": {},
   "outputs": [],
   "source": [
    "forecast_3_days_summary = []\n",
    "for day in forecast:\n",
    "    forecast_3_days_summary.append(f\"{day['date']}: High {day['day']['maxtemp_f']}F, Low {day['day']['mintemp_f']}F - {day['day']['condition']['text']}\")"
   ]
  },
  {
   "cell_type": "code",
   "execution_count": 272,
   "id": "41545b8b",
   "metadata": {},
   "outputs": [
    {
     "data": {
      "text/plain": [
       "['2025-09-09: High 83.8F, Low 53.4F - Sunny',\n",
       " '2025-09-10: High 83.3F, Low 59.5F - Cloudy ',\n",
       " '2025-09-11: High 86.2F, Low 64.8F - Sunny']"
      ]
     },
     "execution_count": 272,
     "metadata": {},
     "output_type": "execute_result"
    }
   ],
   "source": [
    "forecast_3_days_summary"
   ]
  },
  {
   "cell_type": "code",
   "execution_count": 273,
   "id": "26148f89",
   "metadata": {},
   "outputs": [
    {
     "data": {
      "text/plain": [
       "['Tuesday, September 9:  High 83.8F / Low 53.4F - Sunny ',\n",
       " 'Wednesday, September 10:  High 83.3F / Low 59.5F - Cloudy  ',\n",
       " 'Thursday, September 11:  High 86.2F / Low 64.8F - Sunny ']"
      ]
     },
     "execution_count": 273,
     "metadata": {},
     "output_type": "execute_result"
    }
   ],
   "source": [
    "forecast_3_days_summary = []\n",
    "for day in forecast:\n",
    "    date_obj = datetime.strptime(day['date'], '%Y-%m-%d')\n",
    "    formatted_date = date_obj.strftime('%A, %B %#d')\n",
    "    forecast_3_days_summary.append(f\"{formatted_date}:  High {day['day']['maxtemp_f']}F / Low {day['day']['mintemp_f']}F - {day['day']['condition']['text']} \")\n",
    "\n",
    "forecast_3_days_summary"
   ]
  },
  {
   "cell_type": "code",
   "execution_count": 274,
   "id": "215afedd",
   "metadata": {},
   "outputs": [],
   "source": [
    "today = pd.Timestamp.now().strftime(\"%Y-%m-%d\")\n",
    "astronomy_url = f\"{baseurl}astronomy.json?key={api_key}&q={city}&dt={today}\"\n"
   ]
  },
  {
   "cell_type": "code",
   "execution_count": 275,
   "id": "0d36348d",
   "metadata": {},
   "outputs": [],
   "source": [
    "# --- Current Weather ---\n",
    "def get_city_data(city, api_key):\n",
    "    current_url = f\"{baseurl}current.json?key={api_key}&q={city}\"\n",
    "    current_response = requests.get(current_url)\n",
    "    current_data = current_response.json()[\"current\"]"
   ]
  },
  {
   "cell_type": "code",
   "execution_count": 276,
   "id": "16a7b9cb",
   "metadata": {},
   "outputs": [],
   "source": [
    "# --- 3-Day Forecast ---\n",
    "def get_city_data(city, api_key):\n",
    "    forecast_url = f\"{baseurl}forecast.json?key={api_key}&q={city}&days=3\"\n",
    "    forecast_response = requests.get(forecast_url)\n",
    "    forecast = forecast_response.json()[\"forecast\"][\"forecastday\"]\n",
    "\n",
    "    forecast_summary = []\n",
    "    for day in forecast:\n",
    "        date_obj = datetime.strptime(day[\"date\"], \"%Y-%m-%d\")\n",
    "        formatted_date = date_obj.strftime(\"%A, %B %#d\") \n",
    "        forecast_3_days_summary.append(\n",
    "            f\"{formatted_date}: High {day['day']['maxtemp_f']}°F / \"\n",
    "            f\"Low {day['day']['mintemp_f']}°F - {day['day']['condition']['text']}\"\n",
    "        )"
   ]
  },
  {
   "cell_type": "code",
   "execution_count": 277,
   "id": "ba0de552",
   "metadata": {},
   "outputs": [],
   "source": [
    "# --- Astronomy Data ---\n",
    "def get_city_data(city, api_key):\n",
    "    today = pd.Timestamp.now().strftime(\"%Y-%m-%d\")\n",
    "    astronomy_url = f\"{baseurl}astronomy.json?key={api_key}&q={city}&dt={today}\"\n",
    "    astronomy_response = requests.get(astronomy_url)\n",
    "    astronomy = astronomy_response.json()[\"astronomy\"][\"astro\"]"
   ]
  },
  {
   "cell_type": "code",
   "execution_count": 278,
   "id": "7baa3ff3",
   "metadata": {},
   "outputs": [],
   "source": [
    "# --- Build Summary Dictionary ---\n",
    "def get_city_data(city, api_key):\n",
    "    summary = {\n",
    "        \"city\": city,\n",
    "        \"current\": {\n",
    "            \"Temperature\": data['current']['temp_f'],\n",
    "            \"Condition\": data['current']['condition']['text'],\n",
    "            \"Humidity\": data['current']['humidity'],\n",
    "            \"Wind Speed\": data['current']['wind_mph']\n",
    "        },\n",
    "        \"forecast\": forecast_3_days_summary,\n",
    "        \"astronomy\": {\n",
    "            \"sunrise\": astronomy[\"sunrise\"],\n",
    "            \"sunset\": astronomy[\"sunset\"],\n",
    "            \"moon_phase\": astronomy[\"moon_phase\"]\n",
    "        }\n",
    "    }\n",
    "\n",
    "    return summary"
   ]
  },
  {
   "cell_type": "code",
   "execution_count": 280,
   "id": "5b48f545",
   "metadata": {},
   "outputs": [
    {
     "name": "stdout",
     "output_type": "stream",
     "text": [
      "=== Current Weather ===\n",
      "   Temperature Condition  Humidity  Wind Speed        City\n",
      "0         77.2     Sunny        37         2.5  Louisville \n",
      "\n",
      "=== 3-Day Forecast ===\n",
      "                                            Forecast        City\n",
      "0  Tuesday, September 9:  High 83.8F / Low 53.4F ...  Louisville\n",
      "1  Wednesday, September 10:  High 83.3F / Low 59....  Louisville\n",
      "2  Thursday, September 11:  High 86.2F / Low 64.8...  Louisville \n",
      "\n",
      "=== Astronomy ===\n",
      "    sunrise    sunset      moon_phase        City\n",
      "0  07:20 AM  08:00 PM  Waning Gibbous  Louisville \n",
      "\n",
      "=== Air Quality ===\n",
      "    PM2.5    PM10     O3   NO2   SO2      CO        City\n",
      "0  14.245  14.615  122.0  9.62  4.44  390.35  Louisville \n",
      "\n"
     ]
    }
   ],
   "source": [
    "def get_city_data(city, api_key):\n",
    "    current_url = f\"{baseurl}current.json?key={api_key}&q={city}&aqi=yes\"\n",
    "    current_response = requests.get(current_url).json()\n",
    "    current_data = current_response[\"current\"]\n",
    "\n",
    "    forecast_url = f\"{baseurl}forecast.json?key={api_key}&q={city}&days=3\"\n",
    "    forecast_response = requests.get(forecast_url)\n",
    "    forecast = forecast_response.json()[\"forecast\"][\"forecastday\"]\n",
    "\n",
    "    forecast_summary = []\n",
    "    for day in forecast:\n",
    "        date_obj = datetime.strptime(day[\"date\"], \"%Y-%m-%d\")\n",
    "        formatted_date = date_obj.strftime(\"%A, %B %#d\")  # use %#d on Windows, %-d on Mac/Linux\n",
    "        forecast_summary.append(\n",
    "            f\"{formatted_date}: High {day['day']['maxtemp_f']}°F / \"\n",
    "            f\"Low {day['day']['mintemp_f']}°F - {day['day']['condition']['text']}\"\n",
    "        )\n",
    "\n",
    "\n",
    "    today = pd.Timestamp.now().strftime(\"%Y-%m-%d\")\n",
    "    astronomy_url = f\"{baseurl}astronomy.json?key={api_key}&q={city}&dt={today}\"\n",
    "    astronomy_response = requests.get(astronomy_url)\n",
    "    astronomy = astronomy_response.json()[\"astronomy\"][\"astro\"]\n",
    "\n",
    "    air_quality = current_response[\"current\"].get(\"air_quality\", {})\n",
    "\n",
    "    summary = {\n",
    "        \"city\": city,\n",
    "        \"current\": {\n",
    "            \"Temperature\": data['current']['temp_f'],\n",
    "            \"Condition\": data['current']['condition']['text'],\n",
    "            \"Humidity\": data['current']['humidity'],\n",
    "            \"Wind Speed\": data['current']['wind_mph']\n",
    "        },\n",
    "        \"forecast\": forecast_3_days_summary,\n",
    "        \"astronomy\": {\n",
    "            \"sunrise\": astronomy[\"sunrise\"],\n",
    "            \"sunset\": astronomy[\"sunset\"],\n",
    "            \"moon_phase\": astronomy[\"moon_phase\"]\n",
    "        },\n",
    "        \"air_quality\": {\n",
    "            \"PM2.5\": air_quality.get(\"pm2_5\"),\n",
    "            \"PM10\": air_quality.get(\"pm10\"),\n",
    "            \"O3\": air_quality.get(\"o3\"),\n",
    "            \"NO2\": air_quality.get(\"no2\"),\n",
    "            \"SO2\": air_quality.get(\"so2\"),\n",
    "            \"CO\": air_quality.get(\"co\")\n",
    "        }\n",
    "    }\n",
    "\n",
    "    return summary\n",
    "\n",
    "city_weather = get_city_data(\"Louisville\", api_key)\n",
    "\n",
    "current_df = pd.DataFrame([city_weather[\"current\"]])\n",
    "current_df[\"City\"] = city_weather[\"city\"]\n",
    "print(\"=== Current Weather ===\")\n",
    "print(current_df, \"\\n\")\n",
    "\n",
    "forecast_df = pd.DataFrame({\"Forecast\": city_weather[\"forecast\"]})\n",
    "forecast_df[\"City\"] = city_weather[\"city\"]\n",
    "print(\"=== 3-Day Forecast ===\")\n",
    "print(forecast_df, \"\\n\")\n",
    "\n",
    "astronomy_df = pd.DataFrame([city_weather[\"astronomy\"]])\n",
    "astronomy_df[\"City\"] = city_weather[\"city\"]\n",
    "print(\"=== Astronomy ===\")\n",
    "print(astronomy_df, \"\\n\")\n",
    "\n",
    "air_quality_df = pd.DataFrame([city_weather[\"air_quality\"]])\n",
    "air_quality_df[\"City\"] = city_weather[\"city\"]\n",
    "print(\"=== Air Quality ===\")\n",
    "print(air_quality_df, \"\\n\")\n"
   ]
  },
  {
   "cell_type": "code",
   "execution_count": null,
   "id": "49e3950f",
   "metadata": {},
   "outputs": [],
   "source": []
  }
 ],
 "metadata": {
  "kernelspec": {
   "display_name": "Python 3",
   "language": "python",
   "name": "python3"
  },
  "language_info": {
   "codemirror_mode": {
    "name": "ipython",
    "version": 3
   },
   "file_extension": ".py",
   "mimetype": "text/x-python",
   "name": "python",
   "nbconvert_exporter": "python",
   "pygments_lexer": "ipython3",
   "version": "3.12.10"
  }
 },
 "nbformat": 4,
 "nbformat_minor": 5
}
